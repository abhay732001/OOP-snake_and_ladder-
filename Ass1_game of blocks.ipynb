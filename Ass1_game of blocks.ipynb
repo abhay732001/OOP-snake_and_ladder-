{
  "nbformat": 4,
  "nbformat_minor": 0,
  "metadata": {
    "colab": {
      "name": "Ass1.ipynb",
      "provenance": [],
      "collapsed_sections": [],
      "authorship_tag": "ABX9TyNlqzy7tK17Ff735JxEYmSk",
      "include_colab_link": true
    },
    "kernelspec": {
      "name": "python3",
      "display_name": "Python 3"
    },
    "language_info": {
      "name": "python"
    }
  },
  "cells": [
    {
      "cell_type": "markdown",
      "metadata": {
        "id": "view-in-github",
        "colab_type": "text"
      },
      "source": [
        "<a href=\"https://colab.research.google.com/github/abhay732001/OOP-snake_and_ladder-/blob/main/Ass1_game%20of%20blocks.ipynb\" target=\"_parent\"><img src=\"https://colab.research.google.com/assets/colab-badge.svg\" alt=\"Open In Colab\"/></a>"
      ]
    },
    {
      "cell_type": "code",
      "metadata": {
        "id": "hVT9plgRrvtT"
      },
      "source": [
        "import numpy as np\n",
        "\n"
      ],
      "execution_count": null,
      "outputs": []
    },
    {
      "cell_type": "code",
      "metadata": {
        "colab": {
          "base_uri": "https://localhost:8080/"
        },
        "id": "uniuZLOjsX_4",
        "outputId": "7f17c6e1-d404-46f6-a19d-15caa1f64c8c"
      },
      "source": [
        "!pip install crypto"
      ],
      "execution_count": null,
      "outputs": [
        {
          "output_type": "stream",
          "text": [
            "Collecting crypto\n",
            "  Downloading https://files.pythonhosted.org/packages/fc/bb/0b812dc02e6357606228edfbf5808f5ca0a675a84273578c3a199e841cd8/crypto-1.4.1-py2.py3-none-any.whl\n",
            "Collecting Naked\n",
            "\u001b[?25l  Downloading https://files.pythonhosted.org/packages/02/36/b8107b51adca73402ec1860d88f41d958e275e60eea6eeaa9c39ddb89a40/Naked-0.1.31-py2.py3-none-any.whl (590kB)\n",
            "\u001b[K     |████████████████████████████████| 593kB 2.9MB/s \n",
            "\u001b[?25hCollecting shellescape\n",
            "  Downloading https://files.pythonhosted.org/packages/d0/f4/0081137fceff5779cd4205c1e96657e41cc2d2d56c940dc8eeb6111780f7/shellescape-3.8.1-py2.py3-none-any.whl\n",
            "Requirement already satisfied: requests in /usr/local/lib/python3.7/dist-packages (from Naked->crypto) (2.23.0)\n",
            "Requirement already satisfied: pyyaml in /usr/local/lib/python3.7/dist-packages (from Naked->crypto) (3.13)\n",
            "Requirement already satisfied: certifi>=2017.4.17 in /usr/local/lib/python3.7/dist-packages (from requests->Naked->crypto) (2020.12.5)\n",
            "Requirement already satisfied: chardet<4,>=3.0.2 in /usr/local/lib/python3.7/dist-packages (from requests->Naked->crypto) (3.0.4)\n",
            "Requirement already satisfied: urllib3!=1.25.0,!=1.25.1,<1.26,>=1.21.1 in /usr/local/lib/python3.7/dist-packages (from requests->Naked->crypto) (1.24.3)\n",
            "Requirement already satisfied: idna<3,>=2.5 in /usr/local/lib/python3.7/dist-packages (from requests->Naked->crypto) (2.10)\n",
            "Installing collected packages: Naked, shellescape, crypto\n",
            "Successfully installed Naked-0.1.31 crypto-1.4.1 shellescape-3.8.1\n"
          ],
          "name": "stdout"
        }
      ]
    },
    {
      "cell_type": "code",
      "metadata": {
        "colab": {
          "base_uri": "https://localhost:8080/"
        },
        "id": "GkFntVxFcZAJ",
        "outputId": "8f305c9b-bc1c-49c2-a15a-50a3909a1cae"
      },
      "source": [
        "import hashlib\n",
        "import time\n",
        "start_t=time.time()\n",
        "txt=input()\n",
        "x=0\n",
        "\n",
        "target=\"0x00000FFFFFFFFFFFFFFFFFFFFFFFFFFFFFFFFFFFFFFFFFFFFFFFFFFFFFFFFFFF\"\n",
        "z=str(txt)+str(x)\n",
        "y=hashlib.sha256(b\"z\").hexdigest()\n",
        "while str(y) > target:\n",
        "  print(\"time taken is:\" ,(time.time()-start_t))\n",
        "  x=x+1\n",
        "  z=str(txt)+str(x)\n",
        "  y=hashlib.sha256(str.encode(z)).hexdigest()\n",
        "  print(y)\n",
        "\n",
        "\n",
        "\n",
        "\n",
        "\n"
      ],
      "execution_count": 8,
      "outputs": [
        {
          "output_type": "stream",
          "text": [
            "abhay\n",
            "time taken is: 5.147242784500122\n",
            "fd6654684d4db7e46db13bf954f7d430298a0986fa16256e8a04e18b165377b0\n",
            "time taken is: 5.147416830062866\n",
            "4cb63a3c9d8be84a3cca2f10479cde0f7596f501f153f54ee8fb7daa9a69f856\n",
            "time taken is: 5.147519111633301\n",
            "0e5ffd6dce051284b591d32d3b510652ac99949d7659cfa81349fa56a6038fcf\n"
          ],
          "name": "stdout"
        }
      ]
    }
  ]
}